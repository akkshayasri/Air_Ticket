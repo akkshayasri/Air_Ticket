{
 "cells": [
  {
   "cell_type": "code",
   "execution_count": 1,
   "metadata": {},
   "outputs": [],
   "source": [
    "import os\n",
    "import platform\n",
    "import mysql.connector\n",
    "import datetime"
   ]
  },
  {
   "cell_type": "code",
   "execution_count": 2,
   "metadata": {},
   "outputs": [],
   "source": [
    "mydb=mysql.connector.connect(host=\"localhost\",user=\"root\",passwd=\"\",database=\"hotel\",charset=\"utf8\")\n",
    "mycursor=mydb.cursor()"
   ]
  },
  {
   "cell_type": "code",
   "execution_count": 3,
   "metadata": {},
   "outputs": [],
   "source": [
    "def registering_customer():\n",
    "    L=[]\n",
    "    custno=int(input('Enter customer no:'))\n",
    "    L.append(custno)\n",
    "    name=input('Enter name:')\n",
    "    L.append(name)\n",
    "    addr=input('Enter address:')\n",
    "    L.append(addr)\n",
    "    jr_date=input('Enter date of journey:')\n",
    "    L.append(jr_date)\n",
    "    source=input('Enter source:')\n",
    "    L.append(source)\n",
    "    destination=input('Enter destination:')\n",
    "    L.append(destination)\n",
    "    \n",
    "    cust=(L)\n",
    "    sql='insert into pdata(custno,custname,addr,jrdate,source,destination) values(%s,%s,%s,%s,%s,%s)'\n",
    "    mycursor.execute(sql,cust)\n",
    "    mydb.commit()\n"
   ]
  },
  {
   "cell_type": "code",
   "execution_count": 4,
   "metadata": {},
   "outputs": [],
   "source": [
    "def ticketprice():\n",
    "    L=[]\n",
    "    cno=int(input('Enter customer no:'))\n",
    "    L.append(cno)\n",
    "    print('Air Tickets')\n",
    "    print('1. First class ticket cost Rs.6000')\n",
    "    print('2. Business class ticket cost Rs.4000')\n",
    "    print('3. Economy class ticket cost Rs.2000 ')\n",
    "    x=int(input('Enter your choice of class:'))\n",
    "    n=int(input('Enter the number of Passengers:'))\n",
    "    if x==1:\n",
    "        print('Succesfully! Your First class tickets for ',n,' are booked.')\n",
    "        s=6000*n\n",
    "        L.append(s)\n",
    "    elif x==2:\n",
    "        print('Succesfully! Your Business class tickets for ',n,' are booked.')\n",
    "        s=4000*n\n",
    "        L.append(s)\n",
    "    elif x==3:\n",
    "        print('Succesfully! Your Economy class tickets for ',n,' are booked.')\n",
    "        s=2000*n\n",
    "        L.append(s)\n",
    "    else:\n",
    "        print('Please select a class type.')\n",
    "    print('The Amount for your ticket is =',s,'\\n')\n",
    "    print('Rs.100 is charged for extra luggages')\n",
    "    \n",
    "    y=int(input('Enter the extra luggage weight in kgs:'))\n",
    "    z=y*100\n",
    "    L.append(z)\n",
    "    tkt=(L)\n",
    "    print('Amount to be paid in total:',s+z,'\\n')\n",
    "    g_tot=s+z\n",
    "    L.append(g_tot)\n",
    "    sql=\"insert into tkt (custno,tkt_tot,lug_tot,g_tot) values (%s,%s,%s,%s)\"\n",
    "    mycursor.execute(sql,tkt)\n",
    "    mydb.commit()"
   ]
  },
  {
   "cell_type": "code",
   "execution_count": 5,
   "metadata": {},
   "outputs": [],
   "source": [
    "def dis():\n",
    "    custno=int(input(\"Enter the customer number whose bill to be viewed : \"))\n",
    "    sql=\"Select pdata.custno, pdata.custname, pdata.addr,pdata.source,pdata.destination,tkt.tkt_tot,tkt.lug_tot, g_tot from pdata INNER JOIN tkt ON pdata.custno=tkt.custno and tkt.custno = %s\"\n",
    "    rl=(custno,)\n",
    "    mycursor.execute(sql,rl)\n",
    "    result=mycursor.fetchall()\n",
    "    for x in result:\n",
    "        print(x)"
   ]
  },
  {
   "cell_type": "code",
   "execution_count": 6,
   "metadata": {},
   "outputs": [],
   "source": [
    "def display_all():\n",
    "    \n",
    "    sql=\"Select pdata.custno, pdata.custname, pdata.addr,pdata.source,pdata.destination,tkt.tkt_tot,tkt.lug_tot, g_tot from pdata INNER JOIN tkt ON pdata.custno=tkt.custno\" \n",
    "    mycursor.execute(sql)   \n",
    "    result=mycursor.fetchall()\n",
    "    print(\"The Customer details are as follows : \")\n",
    "    \n",
    "    for x in result:\n",
    "        print(x)\n"
   ]
  },
  {
   "cell_type": "code",
   "execution_count": 7,
   "metadata": {},
   "outputs": [],
   "source": [
    "def delete():\n",
    "    custno=input(\"Enter the customer number: \")\n",
    "    rl=(custno,)\n",
    "    sql=\"delete from pdata where custno = %s\"\n",
    "    mycursor.execute(sql,rl)\n",
    "    mydb.commit()"
   ]
  },
  {
   "cell_type": "code",
   "execution_count": 12,
   "metadata": {},
   "outputs": [],
   "source": [
    "#def update():\n",
    "    #custno = input(\"Enter the custno which has to be updated:\")\n",
    "    #upd_custname = input(\"Enter the new name :\")\n",
    "    #sql = \"UPDATE pdata SET custname = %s where custno = %s\"\n",
    "    #mycursor.execute(sql,(upd_custname, custno))\n",
    "    #mydb.commit()\n",
    "\n",
    "def upd_menu():\n",
    "    print('Enter 1: To Update customer name.')\n",
    "    print('Enter 2: To Update customer address.')\n",
    "    print('Enter 3: To Update customer source area.')\n",
    "    print('Enter 4: To Update customer source destination')    \n",
    "    user_input = int(input('Enter your choice:'))\n",
    "    custno = input(\"Enter the custno which has to be updated:\")\n",
    "    if user_input == 1:\n",
    "        upd_custname = input(\"Enter the new name :\")\n",
    "        sql = \"UPDATE pdata SET custname = %s where custno = %s\"\n",
    "        mycursor.execute(sql,(upd_custname, custno))\n",
    "        mydb.commit()\n",
    "    \n",
    "    elif user_input == 2:\n",
    "        upd_custaddress = input(\"Enter the new Address :\")\n",
    "        sql = \"UPDATE pdata SET addr = %s where custno = %s\"\n",
    "        mycursor.execute(sql,(upd_custaddress, custno))\n",
    "        mydb.commit()\n",
    "        \n",
    "    elif user_input == 3:\n",
    "        upd_source = input(\"Enter the new Source area :\")\n",
    "        sql = \"UPDATE pdata SET source = %s where custno = %s\"\n",
    "        mycursor.execute(sql,(upd_source, custno))\n",
    "        mydb.commit()\n",
    "    elif user_input == 4:\n",
    "        upd_destination = input(\"Enter the new Destination:\")\n",
    "        sql = \"UPDATE pdata SET destination = %s where custno = %s\"\n",
    "        mycursor.execute(sql,(upd_destination, custno))\n",
    "        mydb.commit()\n",
    "    else:\n",
    "        Print('Choose an appropriate option')\n",
    "    \n",
    "        "
   ]
  },
  {
   "cell_type": "code",
   "execution_count": 13,
   "metadata": {},
   "outputs": [
    {
     "name": "stdout",
     "output_type": "stream",
     "text": [
      "Enter 1: To Enter customer data.\n",
      "Enter 2: To Check about the ticketamount.\n",
      "Enter 3: Display customerwise Details.\n",
      "Enter 4: Display All Details.\n",
      "Enter 5: To Delete a Customer Detail\n",
      "Enter 6: To Update a Customer Detail\n",
      "Enter 7: Exit\n",
      "Enter your choice:4\n",
      "The Customer details are as follows : \n",
      "('2', 'Anisha', 'Coimbatore', 'Chennai', 'New York', '6000', '1000', '7000')\n",
      "('1', 'Akkshaya', 'Cbe', 'Chennai', 'Goa', '8000', '1200', '9200')\n",
      "('12', 'Sanchez', 'Saravanampatti', 'Delhi', 'Mumbai', '12000', '200', '12200')\n"
     ]
    }
   ],
   "source": [
    "def Menuset():\n",
    "    print('Enter 1: To Enter customer data.')\n",
    "    print('Enter 2: To Check about the ticketamount.')\n",
    "    print('Enter 3: Display customerwise Details.')\n",
    "    print('Enter 4: Display All Details.')\n",
    "    print('Enter 5: To Delete a Customer Detail')\n",
    "    print('Enter 6: To Update a Customer Detail')\n",
    "    print('Enter 7: Exit')\n",
    "    \n",
    "    userinput=int(input('Enter your choice:'))\n",
    "    if userinput==1:\n",
    "        registering_customer()\n",
    "    elif userinput==2:\n",
    "        ticketprice()\n",
    "    elif userinput==3:\n",
    "        dis()\n",
    "    elif userinput==4:\n",
    "        display_all()\n",
    "    elif userinput==5:\n",
    "        delete()\n",
    "    elif userinput==6:\n",
    "        upd_menu()\n",
    "    elif userinput==7:\n",
    "        quit()\n",
    "    else:\n",
    "        print('Enter correct choice.')\n",
    "Menuset()      "
   ]
  },
  {
   "cell_type": "code",
   "execution_count": null,
   "metadata": {},
   "outputs": [
    {
     "name": "stdout",
     "output_type": "stream",
     "text": [
      "\n",
      "Do you want to run again? y/n:y\n",
      "1\n",
      "Enter 1: To Enter customer data.\n",
      "Enter 2: To Check about the ticketamount.\n",
      "Enter 3: Display customerwise Details.\n",
      "Enter 4: Display All Details.\n",
      "Enter 5: To Delete a Customer Detail\n",
      "Enter 6: To Update a Customer Detail\n",
      "Enter 7: Exit\n",
      "Enter your choice:6\n",
      "Enter 1: To Update customer name.\n",
      "Enter 2: To Update customer address.\n",
      "Enter 3: To Update customer source area.\n",
      "Enter 4: To Update customer source destination\n",
      "Enter your choice:3\n",
      "Enter the custno which has to be updated:12\n",
      "Enter the new Source area :Paris\n",
      "\n",
      "Do you want to run again? y/n:y\n",
      "1\n",
      "Enter 1: To Enter customer data.\n",
      "Enter 2: To Check about the ticketamount.\n",
      "Enter 3: Display customerwise Details.\n",
      "Enter 4: Display All Details.\n",
      "Enter 5: To Delete a Customer Detail\n",
      "Enter 6: To Update a Customer Detail\n",
      "Enter 7: Exit\n",
      "Enter your choice:4\n",
      "The Customer details are as follows : \n",
      "('2', 'Anisha', 'Coimbatore', 'Chennai', 'New York', '6000', '1000', '7000')\n",
      "('1', 'Akkshaya', 'Cbe', 'Chennai', 'Goa', '8000', '1200', '9200')\n",
      "('12', 'Sanchez', 'Saravanampatti', 'Paris', 'Mumbai', '12000', '200', '12200')\n"
     ]
    }
   ],
   "source": [
    "def runagain():\n",
    "    runagn=input('\\nDo you want to run again? y/n:')\n",
    "    while (runagn=='y' or runagn=='Y'):\n",
    "        if platform.system=='windows':\n",
    "            print(os.system('cls'))\n",
    "        else:\n",
    "            print(os.system('clear'))\n",
    "        Menuset()\n",
    "        runagn=input('\\nDo you want to run again? y/n:')\n",
    "runagain()"
   ]
  },
  {
   "cell_type": "code",
   "execution_count": null,
   "metadata": {},
   "outputs": [],
   "source": []
  }
 ],
 "metadata": {
  "kernelspec": {
   "display_name": "Python 3",
   "language": "python",
   "name": "python3"
  },
  "language_info": {
   "codemirror_mode": {
    "name": "ipython",
    "version": 3
   },
   "file_extension": ".py",
   "mimetype": "text/x-python",
   "name": "python",
   "nbconvert_exporter": "python",
   "pygments_lexer": "ipython3",
   "version": "3.8.3"
  }
 },
 "nbformat": 4,
 "nbformat_minor": 4
}
